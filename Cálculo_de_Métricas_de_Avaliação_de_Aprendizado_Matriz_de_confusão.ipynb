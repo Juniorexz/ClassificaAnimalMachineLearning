{
  "nbformat": 4,
  "nbformat_minor": 0,
  "metadata": {
    "colab": {
      "provenance": [],
      "authorship_tag": "ABX9TyP8MJtZRABMZOFYUn55IlIy",
      "include_colab_link": true
    },
    "kernelspec": {
      "name": "python3",
      "display_name": "Python 3"
    },
    "language_info": {
      "name": "python"
    }
  },
  "cells": [
    {
      "cell_type": "markdown",
      "metadata": {
        "id": "view-in-github",
        "colab_type": "text"
      },
      "source": [
        "<a href=\"https://colab.research.google.com/github/Juniorexz/ClassificaAnimalMachineLearning/blob/main/C%C3%A1lculo_de_M%C3%A9tricas_de_Avalia%C3%A7%C3%A3o_de_Aprendizado_Matriz_de_confus%C3%A3o.ipynb\" target=\"_parent\"><img src=\"https://colab.research.google.com/assets/colab-badge.svg\" alt=\"Open In Colab\"/></a>"
      ]
    },
    {
      "cell_type": "markdown",
      "source": [
        "# Matriz de confusão"
      ],
      "metadata": {
        "id": "ZDCRlNJl8C7B"
      }
    },
    {
      "cell_type": "markdown",
      "source": [
        "Neste projeto, vamos calcular as principais métricas para avaliação de modelos de classificação de dados, como acurácia, sensibilidade (recall), especificidade, precisão e F-score. Para que seja possível implementar estas funções, você deve utilizar os métodos e suas fórmulas correspondentes (Tabela 1).\n",
        "\n",
        "Para a leitura dos valores de VP, VN, FP e FN, será necessário escolher uma matriz de confusão para a base dos cálculos. Essa matriz você pode escolher de forma arbitraria, pois nosso objetivo é entender como funciona cada métrica.  "
      ],
      "metadata": {
        "id": "8MUquNYq8Grc"
      }
    },
    {
      "cell_type": "code",
      "execution_count": 11,
      "metadata": {
        "colab": {
          "base_uri": "https://localhost:8080/"
        },
        "id": "Fm8xlRa47gWI",
        "outputId": "913c6446-07df-49bc-d734-4d3c9f6aa323"
      },
      "outputs": [
        {
          "output_type": "stream",
          "name": "stdout",
          "text": [
            "Acurácia: 0.96\n",
            "Sensibilidade: 0.99\n",
            "Especificidade: 0.60\n",
            "Precisão: 0.97\n",
            "F-score: 0.98\n"
          ]
        }
      ],
      "source": [
        "# Definindo os valores da matriz de confusão\n",
        "VP = 666  # Verdadeiros Positivos\n",
        "VN = 30  # Verdadeiros Negativos\n",
        "FP = 20  # Falsos Positivos\n",
        "FN = 10   # Falsos Negativos\n",
        "\n",
        "# Cálculo das métricas\n",
        "def calcular_metricas(VP, VN, FP, FN):\n",
        "    # Acurácia\n",
        "    acuracia = (VP + VN) / (VP + VN + FP + FN)\n",
        "\n",
        "    # Sensibilidade (Recall)\n",
        "    sensibilidade = VP / (VP + FN)\n",
        "\n",
        "    # Especificidade\n",
        "    especificidade = VN / (VN + FP)\n",
        "\n",
        "    # Precisão\n",
        "    precisao = VP / (VP + FP)\n",
        "\n",
        "    # F-score (F1 Score)\n",
        "    if (precisao + sensibilidade) == 0:\n",
        "        f_score = 0 # This line was not indented correctly\n",
        "    else:\n",
        "        f_score = 2 * (precisao * sensibilidade) / (precisao + sensibilidade)\n",
        "\n",
        "    return {\n",
        "        \"Acurácia\": acuracia,\n",
        "        \"Sensibilidade\": sensibilidade,\n",
        "        \"Especificidade\": especificidade,\n",
        "        \"Precisão\": precisao,\n",
        "        \"F-score\": f_score\n",
        "    }\n",
        "\n",
        "# Chamando a função e exibindo os resultados\n",
        "metricas = calcular_metricas(VP, VN, FP, FN)\n",
        "for nome, valor in metricas.items():\n",
        "    print(f\"{nome}: {valor:.2f}\")"
      ]
    }
  ]
}